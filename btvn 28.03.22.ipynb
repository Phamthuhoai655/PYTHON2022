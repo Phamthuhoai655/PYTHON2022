{
 "cells": [
  {
   "cell_type": "code",
   "execution_count": 4,
   "id": "561e278d",
   "metadata": {},
   "outputs": [
    {
     "name": "stdout",
     "output_type": "stream",
     "text": [
      "Nhap chuoi ki tu bat ki: Hom nay troi dep qua\n",
      "True\n"
     ]
    }
   ],
   "source": [
    "text = input(\"Nhap chuoi ki tu bat ki: \")\n",
    "nguyen_am = 'a'\n",
    "print(nguyen_am in text)\n"
   ]
  },
  {
   "cell_type": "code",
   "execution_count": null,
   "id": "e35dd92c",
   "metadata": {},
   "outputs": [],
   "source": []
  },
  {
   "cell_type": "code",
   "execution_count": null,
   "id": "26b7986c",
   "metadata": {},
   "outputs": [],
   "source": [
    "\n"
   ]
  }
 ],
 "metadata": {
  "kernelspec": {
   "display_name": "Python 3 (ipykernel)",
   "language": "python",
   "name": "python3"
  },
  "language_info": {
   "codemirror_mode": {
    "name": "ipython",
    "version": 3
   },
   "file_extension": ".py",
   "mimetype": "text/x-python",
   "name": "python",
   "nbconvert_exporter": "python",
   "pygments_lexer": "ipython3",
   "version": "3.9.7"
  }
 },
 "nbformat": 4,
 "nbformat_minor": 5
}
