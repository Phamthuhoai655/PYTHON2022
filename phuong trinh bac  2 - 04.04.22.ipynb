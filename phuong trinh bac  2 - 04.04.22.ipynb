{
 "cells": [
  {
   "cell_type": "code",
   "execution_count": 1,
   "id": "746e0c5d",
   "metadata": {},
   "outputs": [
    {
     "name": "stdout",
     "output_type": "stream",
     "text": [
      "Nhap a: 0\n",
      "Nhap b: 5\n",
      "Nhap c: 0\n",
      "phuong trinh la: 5*x + 0 = 0\n"
     ]
    }
   ],
   "source": [
    "a = int(input(\"Nhap a: \"))\n",
    "b = int(input(\"Nhap b: \"))\n",
    "c = int(input(\"Nhap c: \"))\n",
    "\n",
    "if a==1 and b==1:\n",
    "    print(\"phuong trinh bac 2 la: x^2 + x + {0} = 0\".format(c))\n",
    "elif a==-1 and b==1:\n",
    "    print(\"phuong trinh bac 2 la: -x^2 + x + {0} = 0\".format(c))\n",
    "elif a==1 and b==-1:\n",
    "    print(\"phuong trinh bac 2 la: x^2 - x + {0} = 0\".format(c))\n",
    "elif a==-1 and b==-1:\n",
    "    print(\"phuong trinh bac 2 la: -x^2 - x + {0} = 0\".format(c))\n",
    "elif a==1 and (b!=1 or b!=-1):\n",
    "    print(\"phuong trinh la: x^2 + {0}*x = {1}\".format(b,c))\n",
    "elif a==-1 and (b!=1 or b!=-1):\n",
    "    print(\"phuong trinh la: -x^2 + {0}*x = {1}\".format(b,c))\n",
    "elif b==1 and (a!=-1 or a!=1):\n",
    "    print(\"phuong trinh la: {0}*x^2 + x = {1}\".format(a,c))\n",
    "elif b==-1 and (a!=-1 or a!=1):\n",
    "    print(\"phuong trinh la: {0}*x^2 - x = {1}\".format(a,c))\n",
    "elif a==0 and b==0:\n",
    "    print(\"phuong trinh la: {0} = 0\".format(c))\n",
    "elif a==0:\n",
    "    print(\"phuong trinh la: {0}*x + {1} = 0\".format(b,c))\n",
    "elif b==0:\n",
    "    print(\"phuong trinh la: {0}*x^2 + {1} = 0\".format(a,c))\n",
    "else:\n",
    "    print(\"phuong trinh la: {0}*x^2 + {1}*x + {2} = 0\".format(a,b,c))\n",
    "    "
   ]
  },
  {
   "cell_type": "code",
   "execution_count": null,
   "id": "9e4a422f",
   "metadata": {},
   "outputs": [],
   "source": []
  },
  {
   "cell_type": "code",
   "execution_count": null,
   "id": "3d5b4c71",
   "metadata": {},
   "outputs": [],
   "source": []
  }
 ],
 "metadata": {
  "kernelspec": {
   "display_name": "Python 3 (ipykernel)",
   "language": "python",
   "name": "python3"
  },
  "language_info": {
   "codemirror_mode": {
    "name": "ipython",
    "version": 3
   },
   "file_extension": ".py",
   "mimetype": "text/x-python",
   "name": "python",
   "nbconvert_exporter": "python",
   "pygments_lexer": "ipython3",
   "version": "3.9.7"
  }
 },
 "nbformat": 4,
 "nbformat_minor": 5
}
