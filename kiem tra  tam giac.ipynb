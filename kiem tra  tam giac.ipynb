{
 "cells": [
  {
   "cell_type": "code",
   "execution_count": 4,
   "id": "fa7cc74e",
   "metadata": {},
   "outputs": [
    {
     "name": "stdout",
     "output_type": "stream",
     "text": [
      "2.23606797749979 6.4031242374328485 4.242640687119285\n",
      "False\n",
      "False\n",
      "False\n",
      "tamgiacvuongcan: False\n"
     ]
    }
   ],
   "source": [
    "import math\n",
    "x = -1\n",
    "y = 1\n",
    "\n",
    "x1 = x+1\n",
    "y1 = y+2\n",
    "\n",
    "x2 = x+2\n",
    "y2 = y+4\n",
    "\n",
    "x3 = x+5\n",
    "y3 = y+7\n",
    "\n",
    "\n",
    "#kiem tra tam giac can\n",
    "AB = math.sqrt((x2-x1)*(x2-x1)+(y2-y1)*(y2-y1))\n",
    "AC = math.sqrt((x3-x1)*(x3-x1)+(y3-y1)*(y3-y1))\n",
    "BC = math.sqrt((x3-x2)*(x3-x2)+(y3-y2)*(y3-y2))\n",
    "h1 = AB==AC or AB==BC or BC==AC\n",
    "print(AB,AC,BC)\n",
    "h = (AC+AB)==BC or (AC+BC)==AB or (AB+BC)==AC\n",
    "print(h)\n",
    "# h là true thì là tam giác \n",
    "print(h1)\n",
    "#h1 la false thi khong phai tam giac can\n",
    "\n",
    "#kiem tra tam giac vuong\n",
    "t1 = AB*AB\n",
    "t2 = AC*AC\n",
    "t3 = BC*BC\n",
    "h2 = math.sqrt(t1+t2)==BC or math.sqrt(t1+t3)==AC or math.sqrt(t2+t3)==AB\n",
    "print(h2)\n",
    "# h2 la false thi tam giac khong vuong\n",
    "\n",
    "# tam giac vuong can\n",
    "tamgiacvuongcan = h and h1\n",
    "print(\"tamgiacvuongcan:\",tamgiacvuongcan)\n",
    "\n"
   ]
  },
  {
   "cell_type": "code",
   "execution_count": null,
   "id": "dacba501",
   "metadata": {},
   "outputs": [],
   "source": []
  },
  {
   "cell_type": "code",
   "execution_count": null,
   "id": "197a1c42",
   "metadata": {},
   "outputs": [],
   "source": []
  }
 ],
 "metadata": {
  "kernelspec": {
   "display_name": "Python 3 (ipykernel)",
   "language": "python",
   "name": "python3"
  },
  "language_info": {
   "codemirror_mode": {
    "name": "ipython",
    "version": 3
   },
   "file_extension": ".py",
   "mimetype": "text/x-python",
   "name": "python",
   "nbconvert_exporter": "python",
   "pygments_lexer": "ipython3",
   "version": "3.9.7"
  }
 },
 "nbformat": 4,
 "nbformat_minor": 5
}
