{
 "cells": [
  {
   "cell_type": "code",
   "execution_count": null,
   "id": "9526c092",
   "metadata": {},
   "outputs": [],
   "source": [
    "text=input(\"Nhap vao ho ten: \")\n",
    "text1=text.lstrip()\n",
    "text2=text1.rstrip()\n",
    "text3=text2.lower()\n",
    "text4=text3.split(' ')\n",
    "\n",
    "for i in text4:\n",
    "    if i != ' ':\n",
    "        i = i[0].upper() + i[1:]\n",
    "        print(i,end=' ')    \n",
    "\n",
    "    \n",
    "    \n"
   ]
  },
  {
   "cell_type": "code",
   "execution_count": 13,
   "id": "5baa4b6c",
   "metadata": {},
   "outputs": [
    {
     "name": "stdout",
     "output_type": "stream",
     "text": [
      "Nhap: 4902778120972\n",
      "108\n",
      "8\n",
      "4902778120972  la 1 ma vach dung\n"
     ]
    }
   ],
   "source": [
    "mavach = input(\"Nhap: \")\n",
    "i = 0\n",
    "A = 0\n",
    "B = 0\n",
    "\n",
    "\n",
    "C = int(mavach[12])\n",
    "\n",
    "\n",
    "\n",
    "while i < 12:\n",
    "    if i%2 == 0:\n",
    "        A += int(mavach[i:(i+1)])\n",
    "    else:\n",
    "        B += int(mavach[i:(i+1)])\n",
    "    i += 1\n",
    "D = A + 3*B\n",
    "print(D)\n",
    "E = D%10\n",
    "print(E)\n",
    "if E != 0:\n",
    "    F = 10 - E\n",
    "else:\n",
    "    F = 0\n",
    "    \n",
    "if F == C:\n",
    "    print(mavach,\" la 1 ma vach dung\")\n",
    "else:\n",
    "    print(mavach,\" khong phai la ma vach\")\n",
    "        "
   ]
  },
  {
   "cell_type": "code",
   "execution_count": null,
   "id": "f728cf59",
   "metadata": {},
   "outputs": [],
   "source": []
  }
 ],
 "metadata": {
  "kernelspec": {
   "display_name": "Python 3 (ipykernel)",
   "language": "python",
   "name": "python3"
  },
  "language_info": {
   "codemirror_mode": {
    "name": "ipython",
    "version": 3
   },
   "file_extension": ".py",
   "mimetype": "text/x-python",
   "name": "python",
   "nbconvert_exporter": "python",
   "pygments_lexer": "ipython3",
   "version": "3.9.7"
  }
 },
 "nbformat": 4,
 "nbformat_minor": 5
}
