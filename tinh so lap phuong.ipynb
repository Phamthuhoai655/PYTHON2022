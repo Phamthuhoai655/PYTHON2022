{
 "cells": [
  {
   "cell_type": "code",
   "execution_count": 2,
   "id": "f8755e49",
   "metadata": {},
   "outputs": [
    {
     "name": "stdout",
     "output_type": "stream",
     "text": [
      "19314\n"
     ]
    }
   ],
   "source": [
    "x = 111\n",
    "y = 87\n",
    "z = 56\n",
    "a = 3\n",
    "\n",
    "x1 = x//a\n",
    "y1 = y//a\n",
    "z1 = z//a\n",
    "\n",
    "#So hinh lap phuong toi da xep duoc vao hop chu nhat la:\n",
    "h = x1 * y1 * z1\n",
    "print(h)"
   ]
  },
  {
   "cell_type": "code",
   "execution_count": null,
   "id": "133bca4e",
   "metadata": {},
   "outputs": [],
   "source": []
  }
 ],
 "metadata": {
  "kernelspec": {
   "display_name": "Python 3 (ipykernel)",
   "language": "python",
   "name": "python3"
  },
  "language_info": {
   "codemirror_mode": {
    "name": "ipython",
    "version": 3
   },
   "file_extension": ".py",
   "mimetype": "text/x-python",
   "name": "python",
   "nbconvert_exporter": "python",
   "pygments_lexer": "ipython3",
   "version": "3.9.7"
  }
 },
 "nbformat": 4,
 "nbformat_minor": 5
}
