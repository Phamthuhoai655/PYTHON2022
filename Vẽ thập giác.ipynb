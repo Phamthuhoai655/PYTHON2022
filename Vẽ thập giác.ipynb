{
 "cells": [
  {
   "cell_type": "code",
   "execution_count": null,
   "id": "37309cba",
   "metadata": {},
   "outputs": [],
   "source": [
    "import turtle\n",
    "\n",
    "h=turtle.Turtle()\n",
    "h.pencolor('green')\n",
    "h.speed(6)\n",
    "h.fillcolor('green')\n",
    "\n",
    "h.begin_fill()\n",
    "h.forward(50)\n",
    "h.right(36)\n",
    "h.forward(50)\n",
    "h.right(36)\n",
    "h.forward(50)\n",
    "h.right(36)\n",
    "h.forward(50)\n",
    "h.right(36)\n",
    "h.forward(50)\n",
    "h.right(36)\n",
    "h.forward(50)\n",
    "h.right(36)\n",
    "h.forward(50)\n",
    "h.right(36)\n",
    "h.forward(50)\n",
    "h.right(36)\n",
    "h.forward(50)\n",
    "h.right(36)\n",
    "h.forward(50)\n",
    "h.right(36)\n",
    "h.end_fill()\n",
    "\n",
    "turtle.done()\n"
   ]
  },
  {
   "cell_type": "code",
   "execution_count": null,
   "id": "9322667a",
   "metadata": {},
   "outputs": [],
   "source": []
  }
 ],
 "metadata": {
  "kernelspec": {
   "display_name": "Python 3 (ipykernel)",
   "language": "python",
   "name": "python3"
  },
  "language_info": {
   "codemirror_mode": {
    "name": "ipython",
    "version": 3
   },
   "file_extension": ".py",
   "mimetype": "text/x-python",
   "name": "python",
   "nbconvert_exporter": "python",
   "pygments_lexer": "ipython3",
   "version": "3.9.7"
  }
 },
 "nbformat": 4,
 "nbformat_minor": 5
}
