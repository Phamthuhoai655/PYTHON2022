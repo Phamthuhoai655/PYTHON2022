{
 "cells": [
  {
   "cell_type": "code",
   "execution_count": 5,
   "id": "6b2dba09",
   "metadata": {},
   "outputs": [
    {
     "name": "stdout",
     "output_type": "stream",
     "text": [
      "Nhap diem kiem tra 15 phut: 8\n",
      "Nhap diem kiem tra giua ki: 1\n",
      "Nhap diem kiem tra cuoi ki: 2\n",
      "3.0\n",
      "hoc sinh yeu\n"
     ]
    }
   ],
   "source": [
    "heso1 = int(input(\"Nhap diem kiem tra 15 phut: \"))\n",
    "heso2 = int(input(\"Nhap diem kiem tra giua ki: \"))\n",
    "heso3 = int(input(\"Nhap diem kiem tra cuoi ki: \"))\n",
    "\n",
    "a = (heso1*1 + heso2*1.5 + heso3*2)/(1+1.5+2)\n",
    "print(a)\n",
    "if a>=8:\n",
    "        print(\"hoc sinh gioi\")\n",
    "elif a<8 and a>=6.5:\n",
    "        print(\"hoc sinh kha\")\n",
    "elif a<6.5 and a>=5:\n",
    "        print(\"hoc sinh trung binh\")\n",
    "elif a>=0 and a<5:\n",
    "        print(\"hoc sinh yeu\")\n",
    "else:\n",
    "        print(\"loi\")"
   ]
  },
  {
   "cell_type": "code",
   "execution_count": null,
   "id": "407a9b04",
   "metadata": {},
   "outputs": [],
   "source": []
  }
 ],
 "metadata": {
  "kernelspec": {
   "display_name": "Python 3 (ipykernel)",
   "language": "python",
   "name": "python3"
  },
  "language_info": {
   "codemirror_mode": {
    "name": "ipython",
    "version": 3
   },
   "file_extension": ".py",
   "mimetype": "text/x-python",
   "name": "python",
   "nbconvert_exporter": "python",
   "pygments_lexer": "ipython3",
   "version": "3.9.7"
  }
 },
 "nbformat": 4,
 "nbformat_minor": 5
}
